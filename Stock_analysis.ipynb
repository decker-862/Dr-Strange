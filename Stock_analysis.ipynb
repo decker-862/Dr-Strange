Welcome to Strange World

This is a project based on Stock Prices Sentiment Analysis using top News Headlines.

This Data Science model is made by using python, jupyter notebook, machine learning algorithms,pandas etc
